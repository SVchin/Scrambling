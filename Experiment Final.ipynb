{
 "cells": [
  {
   "cell_type": "code",
   "execution_count": 110,
   "metadata": {},
   "outputs": [],
   "source": [
    "import numpy as np\n",
    "from qutip import *\n",
    "import matplotlib.pyplot as plt \n",
    "import oct2py\n",
    "import math\n",
    "\n",
    "oc = oct2py.Oct2Py()"
   ]
  },
  {
   "cell_type": "code",
   "execution_count": 111,
   "metadata": {},
   "outputs": [],
   "source": [
    "# Initial states (Bell Diagonal states)\n",
    "b1 = bell_state('00')\n",
    "b2 = bell_state('01')\n",
    "b3 = bell_state('10')\n",
    "b4 = bell_state('11')\n",
    "\n",
    "#States of bath qubits\n",
    "e1 = tensor(maximally_mixed_dm(2), maximally_mixed_dm(2))\n",
    "e2 = tensor(maximally_mixed_dm(2), maximally_mixed_dm(2), maximally_mixed_dm(2))\n",
    "\n",
    "# Total initial state:\n",
    "i1 = tensor(ket2dm(b1), e1, e2)\n",
    "\n",
    "# Definitions\n",
    "sx = sigmax()\n",
    "sy = sigmay()\n",
    "sz = sigmaz()\n",
    "\n",
    "#Parameters for Hamiltonian (Couplngs etc)\n",
    "\n",
    "#Coupling between two qubits\n",
    "J_12 = 10\n",
    "\n",
    "#Coupling between qubit and first layer of environment\n",
    "J_23 = 20\n",
    "\n",
    "#Coupling between first and second layer of environment \n",
    "J_34 = 30\n",
    "\n",
    "#Chemical potential terms:\n",
    "o_1 = 0\n",
    "o_2 = 0\n",
    "o_3 = 0\n",
    "o_4 = 0\n",
    "\n",
    "\n",
    "# Scrambling Time\n",
    "#tau = \n",
    "\n",
    "# First environement evolution time\n",
    "t = 1"
   ]
  },
  {
   "cell_type": "code",
   "execution_count": 132,
   "metadata": {},
   "outputs": [],
   "source": [
    "# Hamiltonians\n",
    "\n",
    "# System\n",
    "H_12 = J_12/4 *tensor(sx, sx, qeye(2), qeye(2), qeye(2), qeye(2), qeye(2))\n",
    "\n",
    "# Coupling between system and first environment\n",
    "H_23 = J_23/4 *(tensor(qeye(2), sz, sz, qeye(2), qeye(2), qeye(2), qeye(2)) + tensor(qeye(2), sz, qeye(2), sz, qeye(2), qeye(2), qeye(2)))\n",
    "\n",
    "# Coupling between two layers of environment\n",
    "H_34 = J_34/4 *(tensor(qeye(2), qeye(2), sz, qeye(2), sz, qeye(2), qeye(2)) +\n",
    "                 tensor(qeye(2), qeye(2), sz, qeye(2), qeye(2), sz, qeye(2)) +\n",
    "                 tensor(qeye(2), qeye(2), sz, qeye(2), qeye(2), qeye(2), sz) +\n",
    "                 tensor(qeye(2), qeye(2), qeye(2), sz, sz, qeye(2), qeye(2)) +\n",
    "                 tensor(qeye(2), qeye(2), qeye(2), sz, qeye(2), sz, qeye(2)) +\n",
    "                 tensor(qeye(2), qeye(2), qeye(2), sz, qeye(2), qeye(2), sz))"
   ]
  },
  {
   "cell_type": "code",
   "execution_count": 133,
   "metadata": {},
   "outputs": [],
   "source": [
    "# Initial psuedopure state (Wigner state)\n",
    "\n",
    "zhi=8\n",
    "\n",
    "sys_init = (0.25*(1-(zhi/8))*tensor(qeye(2), qeye(2))) + (zhi/8 * ket2dm(b3))\n",
    "\n",
    "discord_states = [sys_init.full()]\n",
    "otoc_states = [sys_init]"
   ]
  },
  {
   "cell_type": "code",
   "execution_count": null,
   "metadata": {},
   "outputs": [],
   "source": [
    "\n",
    "tau_list=[0]\n",
    "\n",
    "for tau in np.linspace(0.01, 1, 100):\n",
    "    # Full initial state\n",
    "    full_init = tensor(sys_init, maximally_mixed_dm(2), maximally_mixed_dm(2), maximally_mixed_dm(2), maximally_mixed_dm(2), maximally_mixed_dm(2))\n",
    "\n",
    "    # Time evolution\n",
    "\n",
    "    # Evolution under coupling with first environment\n",
    "    r1= mesolve(H_12+H_23, full_init, np.linspace(0, t, 500))\n",
    "    # Saving final state to use as initial state in next step\n",
    "    r2i = r1.states[len(r1.states)-1]\n",
    "\n",
    "    # Scrambling (half)\n",
    "    r2= mesolve(H_12+H_23+H_34, r2i, np.linspace(0, tau/2, 500))\n",
    "    r3i = r2.states[len(r2.states)-1]\n",
    "\n",
    "    # Pi pulse on system \n",
    "    r3 = mesolve(0.5*(tensor(sx, qeye(2), qeye(2), qeye(2), qeye(2), qeye(2), qeye(2)) + tensor(qeye(2), sx, qeye(2), qeye(2), qeye(2), qeye(2), qeye(2))), r3i, np.linspace(0, np.pi, 500))\n",
    "    r4i = r3.states[len(r3.states)-1]\n",
    "\n",
    "    # Scrambling (second half)\n",
    "    r4 = mesolve(H_12+H_23+H_34, r4i, np.linspace(0, tau/2, 500))\n",
    "    r5i = r4.states[len(r4.states)-1]\n",
    "    # Saving reduced state for calculating discord\n",
    "    discord_states.append(r5i.ptrace([0,1]).full())\n",
    "\n",
    "    # First environment coupling evolution\n",
    "    r5 = mesolve(H_12+H_23, r5i, np.linspace(0, t, 500))\n",
    "    r6i = r5.states[len(r5.states)-1]\n",
    "    # Saving reduced state for calculating OTOC\n",
    "    otoc_states.append(r6i.ptrace([0,1]))\n",
    "    tau_list.append(tau)\n",
    "    print(tau)\n",
    "\n"
   ]
  },
  {
   "cell_type": "code",
   "execution_count": 135,
   "metadata": {},
   "outputs": [
    {
     "name": "stdout",
     "output_type": "stream",
     "text": [
      "101 101\n"
     ]
    }
   ],
   "source": [
    "print(len(otoc_states), len(tau_list))"
   ]
  },
  {
   "cell_type": "code",
   "execution_count": 136,
   "metadata": {},
   "outputs": [],
   "source": [
    "otoc=[]\n",
    "discord = []\n",
    "\n",
    "# Calculating discord and OTOC\n",
    "for i in range(0, len(otoc_states)):\n",
    "#     OTOC is calculated manually from the known formula \n",
    "    num = (otoc_states[i]*otoc_states[0]).tr()\n",
    "    den = ((otoc_states[i]*otoc_states[i]).tr()*(otoc_states[0]*otoc_states[0]).tr())**(0.5)\n",
    "    otoc_calc = num/den\n",
    "    otoc.append(otoc_calc)\n",
    "    \n",
    "    disc_calc = oc.discord(discord_states[i], 200, 200)\n",
    "    discord.append(disc_calc)\n",
    "    "
   ]
  },
  {
   "cell_type": "code",
   "execution_count": null,
   "metadata": {},
   "outputs": [],
   "source": [
    "# plotting discord and otoc\n",
    "plt.plot(tau_list, otoc, linestyle='dashed', markersize='0.5')\n",
    "plt.xlabel('Scrambling Time')\n",
    "plt.ylabel('OTOC')\n",
    "plt.savefig('scrambling OTOC sx-sz', format='eps', dpi=1000)\n",
    "plt.clf()\n",
    "\n",
    "plt.plot(tau_list, discord, linestyle='dashed', markersize='0.5')\n",
    "plt.xlabel('Scrambling Time')\n",
    "plt.ylabel('Discord')\n",
    "plt.savefig('scrambling discord sx-sz', format='eps', dpi=1000)\n",
    "plt.clf()"
   ]
  }
 ],
 "metadata": {
  "kernelspec": {
   "display_name": "Python 3",
   "language": "python",
   "name": "python3"
  },
  "language_info": {
   "codemirror_mode": {
    "name": "ipython",
    "version": 3
   },
   "file_extension": ".py",
   "mimetype": "text/x-python",
   "name": "python",
   "nbconvert_exporter": "python",
   "pygments_lexer": "ipython3",
   "version": "3.7.1"
  }
 },
 "nbformat": 4,
 "nbformat_minor": 2
}
