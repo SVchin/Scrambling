{
 "cells": [
  {
   "cell_type": "code",
   "execution_count": 59,
   "metadata": {},
   "outputs": [],
   "source": [
    "import numpy as np\n",
    "from qutip import *\n",
    "import matplotlib.pyplot as plt \n",
    "import oct2py\n",
    "import math\n",
    "from mpl_toolkits.mplot3d import Axes3D\n",
    "\n",
    "\n",
    "oc = oct2py.Oct2Py()"
   ]
  },
  {
   "cell_type": "code",
   "execution_count": 111,
   "metadata": {},
   "outputs": [],
   "source": [
    "# Defn\n",
    "sz = sigmaz()\n",
    "sx = sigmax()\n",
    "sy = sigmay()\n",
    "\n",
    "\n",
    "# Parameters\n",
    "g = 1\n",
    "h = 1\n",
    "\n",
    "# Hamiltonian\n",
    "\n",
    "H = -(tensor(sz, sz, qeye(2), qeye(2)) + tensor(qeye(2), sz, sz, qeye(2)) + tensor(qeye(2), qeye(2), sz, sz)) \n",
    "Hn1 = g*(tensor(sx, qeye(2), qeye(2), qeye(2))+tensor(qeye(2), sx, qeye(2), qeye(2))+tensor(qeye(2), qeye(2), sx, qeye(2))+tensor(qeye(2), qeye(2), qeye(2), sx))\n",
    "Hn2 = h*(tensor(sz, qeye(2), qeye(2), qeye(2))+tensor(qeye(2), sz, qeye(2), qeye(2))+tensor(qeye(2), qeye(2), sz, qeye(2))+tensor(qeye(2), qeye(2), qeye(2), sz))\n",
    "\n",
    "# Op\n",
    "A = tensor(sz, qeye(2), qeye(2), qeye(2))\n",
    "B = tensor(qeye(2), qeye(2), qeye(2), sx)\n",
    "\n"
   ]
  },
  {
   "cell_type": "code",
   "execution_count": 112,
   "metadata": {},
   "outputs": [],
   "source": [
    "otoc_list = []\n",
    "time_list = []\n",
    "\n",
    "for t in np.linspace(0.01, 7, 100):\n",
    "    res = mesolve(H+Hn1+Hn2, B, np.linspace(0, t, 500))\n",
    "    U = res.states[len(res.states)-1]\n",
    "    otoc = (U * A * U.dag() * A).tr()/16\n",
    "    \n",
    "    otoc_list.append(otoc)\n",
    "    time_list.append(t)\n",
    "    \n",
    "    "
   ]
  },
  {
   "cell_type": "code",
   "execution_count": 113,
   "metadata": {},
   "outputs": [
    {
     "data": {
      "image/png": "[encoded data removed]",
      "text/plain": [
       "<Figure size 432x288 with 1 Axes>"
      ]
     },
     "metadata": {
      "needs_background": "light"
     },
     "output_type": "display_data"
    }
   ],
   "source": [
    "# Plotting\n",
    "\n",
    "plt.plot(time_list, otoc_list, linestyle='dashed', markersize='1')\n",
    "plt.xlabel('t')\n",
    "plt.ylabel('OTOC')\n",
    "plt.savefig(\"Du_g1_h1_zx\", format=\"png\", dpi=1000)"
   ]
  }
 ],
 "metadata": {
  "kernelspec": {
   "display_name": "Python 3",
   "language": "python",
   "name": "python3"
  },
  "language_info": {
   "codemirror_mode": {
    "name": "ipython",
    "version": 3
   },
   "file_extension": ".py",
   "mimetype": "text/x-python",
   "name": "python",
   "nbconvert_exporter": "python",
   "pygments_lexer": "ipython3",
   "version": "3.7.1"
  }
 },
 "nbformat": 4,
 "nbformat_minor": 2
}
